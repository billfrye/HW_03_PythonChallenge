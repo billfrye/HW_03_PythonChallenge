{
 "cells": [
  {
   "cell_type": "code",
   "execution_count": 1,
   "metadata": {},
   "outputs": [],
   "source": [
    "# import dependencies\n",
    "import os\n",
    "import csv"
   ]
  },
  {
   "cell_type": "code",
   "execution_count": 2,
   "metadata": {},
   "outputs": [],
   "source": [
    "# Create input and output filenames\n",
    "file_path = os.path.join('.','Resources','election_data.csv')\n",
    "output_path = os.path.join('.','output_file.txt')"
   ]
  },
  {
   "cell_type": "code",
   "execution_count": 3,
   "metadata": {},
   "outputs": [],
   "source": [
    "# setup a few needed variables\n",
    "total_num_votes = 0\n",
    "\n",
    "# Each candidate that receives a vote will have a dictionary entry with their\n",
    "# vote count.\n",
    "vote_totals = {}\n",
    "\n",
    "# start processing loop...\n",
    "with open(file_path) as file:\n",
    "    reader = csv.reader(file, delimiter = ',')\n",
    "    # skip the header row\n",
    "    header = next(reader)\n",
    "#     print(f'header = {header}')\n",
    "    for row in reader:\n",
    "        total_num_votes = total_num_votes + 1 # bump the vote count\n",
    "        person = row[2]\n",
    "        if (person in vote_totals):\n",
    "            vote_totals[person] = vote_totals[person] + 1\n",
    "        else:\n",
    "            vote_totals[person] = 1 # first time voted for, no key will be there          "
   ]
  },
  {
   "cell_type": "code",
   "execution_count": null,
   "metadata": {},
   "outputs": [],
   "source": []
  },
  {
   "cell_type": "code",
   "execution_count": 4,
   "metadata": {},
   "outputs": [],
   "source": [
    "# format the output\n",
    "width = 70\n",
    "dashes = \" -----------------------------\"\n",
    "summary_strs = [\n",
    "    \"\\n Election Analysis\".ljust(width,\" \"),\n",
    "    dashes.ljust(width, \" \"),\n",
    "    \" Total Votes: {:,.0f}\".ljust(width, \" \").format(total_num_votes),\n",
    "    dashes.ljust(width, \" \"),\n",
    "]"
   ]
  },
  {
   "cell_type": "code",
   "execution_count": 5,
   "metadata": {},
   "outputs": [
    {
     "name": "stdout",
     "output_type": "stream",
     "text": [
      "\n",
      " Election Analysis                                                   \n",
      " -----------------------------                                        \n",
      " Total Votes: 3,521,001                                                 \n",
      " -----------------------------                                        \n",
      " Khan: 63.000% (2,218,231)\n",
      " Correy: 20.000% (704,200)\n",
      " Li: 14.000% (492,940)\n",
      " O'Tooley: 3.000% (105,630)\n",
      " -----------------------------                                        \n",
      " Winner: Khan\n",
      " -----------------------------                                        \n"
     ]
    }
   ],
   "source": [
    "winner = \"\" # will indicate the winner\n",
    "winner_votes = 0\n",
    "for k in vote_totals.keys():\n",
    "    v = vote_totals[k]\n",
    "    s = \" {}: {:.3%} ({:,.0f})\".format(k, v/total_num_votes, v)\n",
    "    summary_strs.append( s )\n",
    "    if (v > winner_votes):\n",
    "        winner_votes = v\n",
    "        winner = k\n",
    "\n",
    "summary_strs.append(dashes.ljust(width,\" \"))\n",
    "summary_strs.append(f' Winner: {winner}')\n",
    "summary_strs.append(dashes.ljust(width,\" \"))\n",
    "\n",
    "for s in summary_strs:\n",
    "    print(s)"
   ]
  },
  {
   "cell_type": "code",
   "execution_count": 6,
   "metadata": {},
   "outputs": [],
   "source": [
    "#write to output_file.txt"
   ]
  },
  {
   "cell_type": "code",
   "execution_count": 7,
   "metadata": {},
   "outputs": [],
   "source": [
    "str_array_to_prt = summary_strs\n",
    "data_path = output_path\n",
    "with open(data_path, 'w+') as outfile:\n",
    "    for s in str_array_to_prt :\n",
    "        outfile.write(s + '\\n')"
   ]
  },
  {
   "cell_type": "code",
   "execution_count": null,
   "metadata": {},
   "outputs": [],
   "source": []
  },
  {
   "cell_type": "code",
   "execution_count": null,
   "metadata": {
    "inputHidden": false,
    "outputHidden": false
   },
   "outputs": [],
   "source": []
  },
  {
   "cell_type": "code",
   "execution_count": null,
   "metadata": {
    "inputHidden": false,
    "outputHidden": false
   },
   "outputs": [],
   "source": []
  },
  {
   "cell_type": "code",
   "execution_count": null,
   "metadata": {
    "inputHidden": false,
    "outputHidden": false
   },
   "outputs": [],
   "source": []
  },
  {
   "cell_type": "code",
   "execution_count": null,
   "metadata": {},
   "outputs": [],
   "source": []
  },
  {
   "cell_type": "code",
   "execution_count": null,
   "metadata": {},
   "outputs": [],
   "source": []
  }
 ],
 "metadata": {
  "kernel_info": {
   "name": "pythondata"
  },
  "kernelspec": {
   "display_name": "PythonData",
   "language": "python",
   "name": "pythondata"
  },
  "language_info": {
   "codemirror_mode": {
    "name": "ipython",
    "version": 3
   },
   "file_extension": ".py",
   "mimetype": "text/x-python",
   "name": "python",
   "nbconvert_exporter": "python",
   "pygments_lexer": "ipython3",
   "version": "3.6.5"
  },
  "nteract": {
   "version": "0.12.2"
  }
 },
 "nbformat": 4,
 "nbformat_minor": 2
}
